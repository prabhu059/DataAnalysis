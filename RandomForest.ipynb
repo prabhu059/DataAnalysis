{
  "nbformat": 4,
  "nbformat_minor": 0,
  "metadata": {
    "colab": {
      "provenance": []
    },
    "kernelspec": {
      "name": "python3",
      "display_name": "Python 3"
    },
    "language_info": {
      "name": "python"
    }
  },
  "cells": [
    {
      "cell_type": "code",
      "execution_count": 2,
      "metadata": {
        "id": "Bm3y1VcXPA27"
      },
      "outputs": [],
      "source": [
        "#load libraries\n",
        "import pandas as pd\n",
        "import numpy as np\n",
        "from sklearn.ensemble import RandomForestClassifier\n"
      ]
    },
    {
      "cell_type": "code",
      "source": [
        "df=pd.read_csv(\"/content/drive/MyDrive/demoDT.csv\")\n",
        "print(df)"
      ],
      "metadata": {
        "colab": {
          "base_uri": "https://localhost:8080/"
        },
        "id": "CiMnKAp4RAX8",
        "outputId": "12b20f0b-51b6-42b7-8530-f2fb4ba06447"
      },
      "execution_count": 3,
      "outputs": [
        {
          "output_type": "stream",
          "name": "stdout",
          "text": [
            "   State  Literacy   Cleanliness   Crime_Rate good\n",
            "0      A        92            90           54    0\n",
            "1      B        56            67           50    1\n",
            "2      C        78            80           62    0\n",
            "3      D        85            75           48    1\n",
            "4      E        60            82           55    0\n",
            "5      F        72            78           60    0\n",
            "6      G        88            85           45    0\n",
            "7      H        64            70           58    1\n",
            "8      I        90            88           42    1\n",
            "9      J        68            72           65    0\n",
            "10     K        75            79           57    0\n",
            "11     L        82            86           49    1\n",
            "12     M        58            65           63    0\n",
            "13     N        77            76           52    0\n",
            "14     O        94            91           40    0\n",
            "15     P        63            74           61    0\n",
            "16     Q        79            83           47    1\n",
            "17     R        71            68           59    1\n",
            "18     S        86            89           43    s\n",
            "19     T        66            71           64    0\n",
            "20     U        81            81           51    0\n",
            "21     V        70            77           56    1\n",
            "22     W        87            84           46    1\n",
            "23     X        62            69           66    0\n",
            "24     Y        76            73           53    1\n",
            "25     Z        83            87           44    1\n"
          ]
        }
      ]
    },
    {
      "cell_type": "code",
      "source": [
        "feature_cols = ['Literacy',' Cleanliness',' Crime_Rate']\n",
        "feature=df[feature_cols]\n",
        "Target=df.good"
      ],
      "metadata": {
        "id": "lg9W-3zBRODa"
      },
      "execution_count": 4,
      "outputs": []
    },
    {
      "cell_type": "code",
      "source": [
        "RF=RandomForestClassifier()\n",
        "#train Decision Tree Classifier\n",
        "RF=RF.fit(feature,Target)"
      ],
      "metadata": {
        "id": "ufVT-oJCROGT"
      },
      "execution_count": 7,
      "outputs": []
    },
    {
      "cell_type": "code",
      "source": [
        "#predict the response for test dataset\n",
        "l=int(input(\"Enter Literacy:\"))\n",
        "cl=int(input(\"Enter cleanliness:\"))\n",
        "cr=int(input(\"Enetr crimerate:\"))\n",
        "pred=RF.predict([[l,cl,cr]])\n",
        "if pred==1:\n",
        "  print(\"Good State\")\n",
        "else:\n",
        "  print(\"Bad State\")"
      ],
      "metadata": {
        "id": "Jftkxe8tROI3",
        "colab": {
          "base_uri": "https://localhost:8080/"
        },
        "outputId": "ec3fe912-3002-4363-de4e-fe2c0a7f2bf7"
      },
      "execution_count": 9,
      "outputs": [
        {
          "output_type": "stream",
          "name": "stdout",
          "text": [
            "Enter Literacy:1\n",
            "Enter cleanliness:100\n",
            "Enetr crimerate:1\n",
            "Bad State\n"
          ]
        },
        {
          "output_type": "stream",
          "name": "stderr",
          "text": [
            "/usr/local/lib/python3.10/dist-packages/sklearn/base.py:439: UserWarning: X does not have valid feature names, but RandomForestClassifier was fitted with feature names\n",
            "  warnings.warn(\n"
          ]
        }
      ]
    },
    {
      "cell_type": "code",
      "source": [],
      "metadata": {
        "id": "M_MjJF5mROLi"
      },
      "execution_count": null,
      "outputs": []
    },
    {
      "cell_type": "code",
      "source": [],
      "metadata": {
        "id": "gyEadIDoRON_"
      },
      "execution_count": null,
      "outputs": []
    },
    {
      "cell_type": "code",
      "source": [],
      "metadata": {
        "id": "QXotMVdtROQg"
      },
      "execution_count": null,
      "outputs": []
    },
    {
      "cell_type": "code",
      "source": [],
      "metadata": {
        "id": "lEHkJ3FPROSG"
      },
      "execution_count": null,
      "outputs": []
    },
    {
      "cell_type": "code",
      "source": [],
      "metadata": {
        "id": "Ah-zjaSHROU6"
      },
      "execution_count": null,
      "outputs": []
    }
  ]
}